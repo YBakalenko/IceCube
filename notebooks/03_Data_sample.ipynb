{
 "cells": [
  {
   "cell_type": "code",
   "execution_count": 1,
   "id": "ec322441",
   "metadata": {
    "pycharm": {
     "name": "#%%\n"
    }
   },
   "outputs": [],
   "source": [
    "import os\n",
    "import time\n",
    "\n",
    "import numpy as np\n",
    "import pandas as pd\n",
    "\n",
    "from random import sample\n",
    "\n",
    "import yaml\n",
    "import json\n",
    "\n",
    "import warnings\n",
    "warnings.filterwarnings(\"ignore\")\n",
    "\n",
    "from tqdm.auto import tqdm"
   ]
  },
  {
   "cell_type": "code",
   "execution_count": 2,
   "id": "3e25b0e6",
   "metadata": {},
   "outputs": [],
   "source": [
    "N_SAMPLES = 50000"
   ]
  },
  {
   "cell_type": "code",
   "execution_count": 3,
   "id": "e5fba52f",
   "metadata": {},
   "outputs": [],
   "source": [
    "config_path = '../config/params.yml'\n",
    "config = yaml.load(open(config_path), Loader=yaml.FullLoader)\n",
    "\n",
    "preproc = config['preprocessing']\n",
    "training = config['train']\n",
    "evaluate = config['evaluate']"
   ]
  },
  {
   "cell_type": "code",
   "execution_count": 4,
   "id": "9a1ec7c0",
   "metadata": {},
   "outputs": [],
   "source": [
    "# Доступ к данным из Kaggle через API\n",
    "with open(preproc['kaggle_creds']) as json_file:\n",
    "    kaggle_creds = json.load(json_file)"
   ]
  },
  {
   "cell_type": "code",
   "execution_count": 5,
   "id": "8dca6fd0",
   "metadata": {
    "pycharm": {
     "name": "#%%\n"
    }
   },
   "outputs": [],
   "source": [
    "os.environ['KAGGLE_USERNAME'] = kaggle_creds['username']\n",
    "os.environ['KAGGLE_KEY'] = kaggle_creds['key']"
   ]
  },
  {
   "cell_type": "code",
   "execution_count": 6,
   "id": "5665956b",
   "metadata": {},
   "outputs": [],
   "source": [
    "file_dirs = preproc['file_dirs'] | evaluate['file_dirs']"
   ]
  },
  {
   "cell_type": "code",
   "execution_count": 7,
   "id": "d5969bc4",
   "metadata": {},
   "outputs": [],
   "source": [
    "def file_download(filename: str, local_filepath: str,\n",
    "                  kaggle_filepath: str) -> None:\n",
    "    \"\"\"\n",
    "    Загрузка файлов с репозитория Kaggle\n",
    "    :param filename: имя файла с расширением\n",
    "    :param local_filepath: директория проекта, куда следует загрузить файл\n",
    "    :param kaggle_filepath: директория ресурса kaggle, где файл размещен\n",
    "    \"\"\"\n",
    "    check_file = os.path.isfile(local_filepath + filename)\n",
    "    if not check_file:\n",
    "        print(f'File {filename} download operation from {kaggle_filepath}')\n",
    "        shell_cmd = f\"\"\"\n",
    "        cd {local_filepath}\n",
    "        kaggle competitions download -c {preproc['kaggle_competition']} -f {kaggle_filepath + filename}\n",
    "        unzip {filename}\n",
    "        rm {filename}.zip\n",
    "        \"\"\"\n",
    "        os.system(shell_cmd)\n",
    "        print(f'File {filename} has been downloaded and unzipped')\n",
    "    else:\n",
    "        print(f'File {filename} exists in {local_filepath}. Skipping download')"
   ]
  },
  {
   "cell_type": "code",
   "execution_count": 8,
   "id": "d358ab08",
   "metadata": {},
   "outputs": [],
   "source": [
    "def file_delete(filename: str, path: str) -> None:\n",
    "    \"\"\"\n",
    "    Удаление файла\n",
    "    :param filename: имя файла с расширением\n",
    "    :param path: директория проекта, где расположен файл\n",
    "    \"\"\"\n",
    "    check_file = os.path.isfile(path + filename)\n",
    "    if check_file:\n",
    "        print(f'Deleting file {path}{filename}')\n",
    "        shell_cmd = f\"\"\"\n",
    "        cd {path}\n",
    "        rm {filename}\n",
    "        \"\"\"\n",
    "        os.system(shell_cmd)\n",
    "        print(f'File {path}{filename} has been removed')\n",
    "    else:\n",
    "        print(f'File {filename} does not exist in {path}. Skipping deletion')"
   ]
  },
  {
   "cell_type": "code",
   "execution_count": 9,
   "id": "7ae17afd",
   "metadata": {
    "scrolled": true
   },
   "outputs": [],
   "source": [
    "# Загружаем тренировочные и тестовые файлы\n",
    "for file in file_dirs.keys():\n",
    "    if 'kaggle_dir' in file:\n",
    "        local_filepath = file_dirs[file]['local_dir']\n",
    "        kaggle_filepath = file_dirs[file]['kaggle_dir']\n",
    "        if 'ids' in file_dirs[file]:\n",
    "            for batch_id in range(int(file_dirs[file]['ids'][0]),\n",
    "                                  int(file_dirs[file]['ids'][1]) + 1):\n",
    "                filename = file_dirs[file]['filename'].format(batch_id=batch_id)\n",
    "                file_download(filename=filename,\n",
    "                              local_filepath=local_filepath,\n",
    "                              kaggle_filepath=kaggle_filepath)\n",
    "        else:\n",
    "            filename = file_dirs[file]['filename']\n",
    "            file_download(filename=filename,\n",
    "                          local_filepath=local_filepath,\n",
    "                          kaggle_filepath=kaggle_filepath)"
   ]
  },
  {
   "cell_type": "code",
   "execution_count": 11,
   "id": "7f7ba233",
   "metadata": {},
   "outputs": [
    {
     "ename": "FileNotFoundError",
     "evalue": "[Errno 2] No such file or directory: '../data/raw/train_meta.parquet'",
     "output_type": "error",
     "traceback": [
      "\u001b[0;31m---------------------------------------------------------------------------\u001b[0m",
      "\u001b[0;31mFileNotFoundError\u001b[0m                         Traceback (most recent call last)",
      "\u001b[0;32m/var/folders/rz/r7r8pz2s7mjbssff6fk4mtd80000gn/T/ipykernel_2416/1567263798.py\u001b[0m in \u001b[0;36m<module>\u001b[0;34m\u001b[0m\n\u001b[1;32m      1\u001b[0m file_path = preproc['file_dirs']['train_meta'][\n\u001b[1;32m      2\u001b[0m     'local_dir'] + preproc['file_dirs']['train_meta']['filename']\n\u001b[0;32m----> 3\u001b[0;31m \u001b[0mtrain_meta\u001b[0m \u001b[0;34m=\u001b[0m \u001b[0mpd\u001b[0m\u001b[0;34m.\u001b[0m\u001b[0mread_parquet\u001b[0m\u001b[0;34m(\u001b[0m\u001b[0mfile_path\u001b[0m\u001b[0;34m)\u001b[0m\u001b[0;34m\u001b[0m\u001b[0;34m\u001b[0m\u001b[0m\n\u001b[0m\u001b[1;32m      4\u001b[0m \u001b[0;32mdel\u001b[0m \u001b[0mfile_path\u001b[0m\u001b[0;34m\u001b[0m\u001b[0;34m\u001b[0m\u001b[0m\n",
      "\u001b[0;32m~/opt/anaconda3/lib/python3.9/site-packages/pandas/io/parquet.py\u001b[0m in \u001b[0;36mread_parquet\u001b[0;34m(path, engine, columns, storage_options, use_nullable_dtypes, **kwargs)\u001b[0m\n\u001b[1;32m    501\u001b[0m     \u001b[0mimpl\u001b[0m \u001b[0;34m=\u001b[0m \u001b[0mget_engine\u001b[0m\u001b[0;34m(\u001b[0m\u001b[0mengine\u001b[0m\u001b[0;34m)\u001b[0m\u001b[0;34m\u001b[0m\u001b[0;34m\u001b[0m\u001b[0m\n\u001b[1;32m    502\u001b[0m \u001b[0;34m\u001b[0m\u001b[0m\n\u001b[0;32m--> 503\u001b[0;31m     return impl.read(\n\u001b[0m\u001b[1;32m    504\u001b[0m         \u001b[0mpath\u001b[0m\u001b[0;34m,\u001b[0m\u001b[0;34m\u001b[0m\u001b[0;34m\u001b[0m\u001b[0m\n\u001b[1;32m    505\u001b[0m         \u001b[0mcolumns\u001b[0m\u001b[0;34m=\u001b[0m\u001b[0mcolumns\u001b[0m\u001b[0;34m,\u001b[0m\u001b[0;34m\u001b[0m\u001b[0;34m\u001b[0m\u001b[0m\n",
      "\u001b[0;32m~/opt/anaconda3/lib/python3.9/site-packages/pandas/io/parquet.py\u001b[0m in \u001b[0;36mread\u001b[0;34m(self, path, columns, use_nullable_dtypes, storage_options, **kwargs)\u001b[0m\n\u001b[1;32m    242\u001b[0m             \u001b[0mto_pandas_kwargs\u001b[0m\u001b[0;34m[\u001b[0m\u001b[0;34m\"split_blocks\"\u001b[0m\u001b[0;34m]\u001b[0m \u001b[0;34m=\u001b[0m \u001b[0;32mTrue\u001b[0m  \u001b[0;31m# type: ignore[assignment]\u001b[0m\u001b[0;34m\u001b[0m\u001b[0;34m\u001b[0m\u001b[0m\n\u001b[1;32m    243\u001b[0m \u001b[0;34m\u001b[0m\u001b[0m\n\u001b[0;32m--> 244\u001b[0;31m         path_or_handle, handles, kwargs[\"filesystem\"] = _get_path_or_handle(\n\u001b[0m\u001b[1;32m    245\u001b[0m             \u001b[0mpath\u001b[0m\u001b[0;34m,\u001b[0m\u001b[0;34m\u001b[0m\u001b[0;34m\u001b[0m\u001b[0m\n\u001b[1;32m    246\u001b[0m             \u001b[0mkwargs\u001b[0m\u001b[0;34m.\u001b[0m\u001b[0mpop\u001b[0m\u001b[0;34m(\u001b[0m\u001b[0;34m\"filesystem\"\u001b[0m\u001b[0;34m,\u001b[0m \u001b[0;32mNone\u001b[0m\u001b[0;34m)\u001b[0m\u001b[0;34m,\u001b[0m\u001b[0;34m\u001b[0m\u001b[0;34m\u001b[0m\u001b[0m\n",
      "\u001b[0;32m~/opt/anaconda3/lib/python3.9/site-packages/pandas/io/parquet.py\u001b[0m in \u001b[0;36m_get_path_or_handle\u001b[0;34m(path, fs, storage_options, mode, is_dir)\u001b[0m\n\u001b[1;32m    100\u001b[0m         \u001b[0;31m# fsspec resources can also point to directories\u001b[0m\u001b[0;34m\u001b[0m\u001b[0;34m\u001b[0m\u001b[0m\n\u001b[1;32m    101\u001b[0m         \u001b[0;31m# this branch is used for example when reading from non-fsspec URLs\u001b[0m\u001b[0;34m\u001b[0m\u001b[0;34m\u001b[0m\u001b[0m\n\u001b[0;32m--> 102\u001b[0;31m         handles = get_handle(\n\u001b[0m\u001b[1;32m    103\u001b[0m             \u001b[0mpath_or_handle\u001b[0m\u001b[0;34m,\u001b[0m \u001b[0mmode\u001b[0m\u001b[0;34m,\u001b[0m \u001b[0mis_text\u001b[0m\u001b[0;34m=\u001b[0m\u001b[0;32mFalse\u001b[0m\u001b[0;34m,\u001b[0m \u001b[0mstorage_options\u001b[0m\u001b[0;34m=\u001b[0m\u001b[0mstorage_options\u001b[0m\u001b[0;34m\u001b[0m\u001b[0;34m\u001b[0m\u001b[0m\n\u001b[1;32m    104\u001b[0m         )\n",
      "\u001b[0;32m~/opt/anaconda3/lib/python3.9/site-packages/pandas/io/common.py\u001b[0m in \u001b[0;36mget_handle\u001b[0;34m(path_or_buf, mode, encoding, compression, memory_map, is_text, errors, storage_options)\u001b[0m\n\u001b[1;32m    863\u001b[0m         \u001b[0;32melse\u001b[0m\u001b[0;34m:\u001b[0m\u001b[0;34m\u001b[0m\u001b[0;34m\u001b[0m\u001b[0m\n\u001b[1;32m    864\u001b[0m             \u001b[0;31m# Binary mode\u001b[0m\u001b[0;34m\u001b[0m\u001b[0;34m\u001b[0m\u001b[0m\n\u001b[0;32m--> 865\u001b[0;31m             \u001b[0mhandle\u001b[0m \u001b[0;34m=\u001b[0m \u001b[0mopen\u001b[0m\u001b[0;34m(\u001b[0m\u001b[0mhandle\u001b[0m\u001b[0;34m,\u001b[0m \u001b[0mioargs\u001b[0m\u001b[0;34m.\u001b[0m\u001b[0mmode\u001b[0m\u001b[0;34m)\u001b[0m\u001b[0;34m\u001b[0m\u001b[0;34m\u001b[0m\u001b[0m\n\u001b[0m\u001b[1;32m    866\u001b[0m         \u001b[0mhandles\u001b[0m\u001b[0;34m.\u001b[0m\u001b[0mappend\u001b[0m\u001b[0;34m(\u001b[0m\u001b[0mhandle\u001b[0m\u001b[0;34m)\u001b[0m\u001b[0;34m\u001b[0m\u001b[0;34m\u001b[0m\u001b[0m\n\u001b[1;32m    867\u001b[0m \u001b[0;34m\u001b[0m\u001b[0m\n",
      "\u001b[0;31mFileNotFoundError\u001b[0m: [Errno 2] No such file or directory: '../data/raw/train_meta.parquet'"
     ]
    }
   ],
   "source": [
    "file_path = preproc['file_dirs']['train_meta'][\n",
    "    'local_dir'] + preproc['file_dirs']['train_meta']['filename']\n",
    "train_meta = pd.read_parquet(file_path)\n",
    "del file_path"
   ]
  },
  {
   "cell_type": "code",
   "execution_count": null,
   "id": "502e9aa5",
   "metadata": {},
   "outputs": [],
   "source": [
    "def dtypes_convert(df: pd.DataFrame) -> pd.DataFrame:\n",
    "    \"\"\"\n",
    "    Преобразование числовых полей датафрейма к меньшей размерности для экономии вычислительных ресурсов\n",
    "    :param df: датафрейм\n",
    "    \"\"\"\n",
    "    fcols = df.select_dtypes('float').columns\n",
    "    icols = df.select_dtypes('integer').columns\n",
    "\n",
    "    df[fcols] = df[fcols].apply(pd.to_numeric, downcast='float')\n",
    "    df[icols] = df[icols].apply(pd.to_numeric, downcast='unsigned')\n",
    "    \n",
    "    return df"
   ]
  },
  {
   "cell_type": "code",
   "execution_count": null,
   "id": "c19928e1",
   "metadata": {},
   "outputs": [],
   "source": [
    "train_meta = dtypes_convert(train_meta)"
   ]
  },
  {
   "cell_type": "code",
   "execution_count": null,
   "id": "b2a3c510",
   "metadata": {},
   "outputs": [],
   "source": [
    "batch_ids = [*range(1, 11)]"
   ]
  },
  {
   "cell_type": "code",
   "execution_count": null,
   "id": "5eeeaaa0",
   "metadata": {},
   "outputs": [],
   "source": [
    "train_meta = train_meta.loc[train_meta['batch_id'].isin(batch_ids)]"
   ]
  },
  {
   "cell_type": "code",
   "execution_count": null,
   "id": "fc6de4f9",
   "metadata": {},
   "outputs": [],
   "source": [
    "train_meta_sample = train_meta.sample(N_SAMPLES)"
   ]
  },
  {
   "cell_type": "code",
   "execution_count": null,
   "id": "8e44620a",
   "metadata": {},
   "outputs": [],
   "source": [
    "batches = []\n",
    "for i in range(1, 11):\n",
    "    file_path = preproc['file_dirs']['train_batches']['local_dir'] + '/' + preproc[\n",
    "        'file_dirs']['train_batches']['filename'].format(batch_id=i)\n",
    "    batches.append(dtypes_convert(pd.read_parquet(file_path)))\n",
    "    del file_path\n",
    "batches = pd.concat(batches, axis=0)"
   ]
  },
  {
   "cell_type": "code",
   "execution_count": null,
   "id": "093b3598",
   "metadata": {},
   "outputs": [],
   "source": [
    "event_ids = sorted(list(train_meta_sample['event_id']))"
   ]
  },
  {
   "cell_type": "code",
   "execution_count": null,
   "id": "b6311f74",
   "metadata": {},
   "outputs": [],
   "source": [
    "batches_sample = batches[batches.index.isin(event_ids)]"
   ]
  },
  {
   "cell_type": "code",
   "execution_count": null,
   "id": "4c68b09c",
   "metadata": {},
   "outputs": [],
   "source": [
    "train_meta_sample"
   ]
  },
  {
   "cell_type": "code",
   "execution_count": null,
   "id": "ed4fb1e7",
   "metadata": {},
   "outputs": [],
   "source": [
    "batches_sample"
   ]
  },
  {
   "cell_type": "code",
   "execution_count": null,
   "id": "bac17678",
   "metadata": {},
   "outputs": [],
   "source": [
    "batches_sample = dtypes_convert(batches_sample)"
   ]
  },
  {
   "cell_type": "code",
   "execution_count": null,
   "id": "7c881be2",
   "metadata": {},
   "outputs": [],
   "source": [
    "batches_sample.to_parquet('../data/raw/batches/batches_sample.parquet')"
   ]
  },
  {
   "cell_type": "code",
   "execution_count": null,
   "id": "efa0d3bc",
   "metadata": {},
   "outputs": [],
   "source": [
    "train_meta_sample.to_parquet('../data/raw/train_meta_sample.parquet')"
   ]
  },
  {
   "cell_type": "code",
   "execution_count": null,
   "id": "931e4c73",
   "metadata": {},
   "outputs": [],
   "source": []
  }
 ],
 "metadata": {
  "kernelspec": {
   "display_name": "Python 3 (ipykernel)",
   "language": "python",
   "name": "python3"
  },
  "language_info": {
   "codemirror_mode": {
    "name": "ipython",
    "version": 3
   },
   "file_extension": ".py",
   "mimetype": "text/x-python",
   "name": "python",
   "nbconvert_exporter": "python",
   "pygments_lexer": "ipython3",
   "version": "3.9.13"
  },
  "toc": {
   "base_numbering": 1,
   "nav_menu": {},
   "number_sections": true,
   "sideBar": true,
   "skip_h1_title": false,
   "title_cell": "Table of Contents",
   "title_sidebar": "Contents",
   "toc_cell": false,
   "toc_position": {
    "height": "calc(100% - 180px)",
    "left": "10px",
    "top": "150px",
    "width": "296px"
   },
   "toc_section_display": true,
   "toc_window_display": true
  }
 },
 "nbformat": 4,
 "nbformat_minor": 5
}
